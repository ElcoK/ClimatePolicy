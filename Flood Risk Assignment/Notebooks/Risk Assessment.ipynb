{
 "cells": [
  {
   "cell_type": "markdown",
   "metadata": {},
   "source": [
    "### Load packages\n",
    "First we need to load the python packages that are required to perform the analysis"
   ]
  },
  {
   "cell_type": "code",
   "execution_count": null,
   "metadata": {},
   "outputs": [],
   "source": [
    "%matplotlib inline\n",
    "import os\n",
    "import rasterio\n",
    "import numpy \n",
    "import pandas\n",
    "import scipy.io # to load the matlab files\n",
    "from tqdm import tqdm\n",
    "from DamageScanner import DamageScanner # the tool to estimate the losses\n",
    "import matplotlib.pyplot as plt\n",
    "\n",
    "data_path = os.path.join('..','Data')"
   ]
  },
  {
   "cell_type": "code",
   "execution_count": null,
   "metadata": {},
   "outputs": [],
   "source": [
    "# function to load DDM data\n",
    "def read_DDM_input(DDM_data_path):\n",
    "    DDM_data = {}\n",
    "    DDM_data['Curves_structure'] = pandas.read_excel(DDM_data_path,sheet_name='curves_structure').values\n",
    "    DDM_data['Curves_content'] = pandas.read_excel(DDM_data_path,sheet_name='curves_content').values\n",
    "    DDM_data['MaxDam_structure'] = pandas.read_excel(DDM_data_path,sheet_name='maxdam_structure').values\n",
    "    DDM_data['MaxDam_content'] = pandas.read_excel(DDM_data_path,sheet_name='maxdam_content').values  \n",
    "    \n",
    "    return DDM_data"
   ]
  },
  {
   "cell_type": "markdown",
   "metadata": {},
   "source": [
    "### Create a function to calculate the risk"
   ]
  },
  {
   "cell_type": "code",
   "execution_count": null,
   "metadata": {},
   "outputs": [],
   "source": [
    "def risk(timeframe='current'):\n",
    "\n",
    "    # Set paths to data and load initial data\n",
    "    DDM_data = read_DDM_input(os.path.join(data_path,'DDM_data.xlsx')) # the depth-damage curves and maximum damages\n",
    "    landuse_map = os.path.join(data_path,'landuse.asc') # the land-use map\n",
    "    inundation_maps = scipy.io.loadmat(os.path.join(data_path,'Waterdepth_{}.mat'.format(timeframe))) # the inundation files for the current situation\n",
    " \n",
    "    return_periods = [10,100,1000,2000,4000,10000]\n",
    "    \n",
    "    damages = []\n",
    "    for return_period in tqdm(return_periods):\n",
    "        if timeframe == 'current':\n",
    "            inun_map = 'a0_{}'.format(return_period)\n",
    "        elif timeframe == '2100':\n",
    "            inun_map = 'a2_{}'.format(return_period)\n",
    "            \n",
    "        damage_structure,damagebin_structure = DamageScanner(landuse_map,inundation_maps[inun_map],DDM_data['Curves_structure'],\n",
    "                                                         DDM_data['MaxDam_structure'])\n",
    "\n",
    "        # run the DamageScanner for the content\n",
    "        damage_content,damagebin_content = DamageScanner(landuse_map,inundation_maps[inun_map],DDM_data['Curves_content'],\n",
    "                                                             DDM_data['MaxDam_content'])\n",
    "        \n",
    "        damages.append(damage_content+damage_structure)\n",
    "        \n",
    "    return numpy.trapz(damages[::-1],[1/x for x in return_periods][::-1]),damages[::-1]"
   ]
  },
  {
   "cell_type": "markdown",
   "metadata": {},
   "source": [
    "### Run the function to calculate the risk"
   ]
  },
  {
   "cell_type": "markdown",
   "metadata": {},
   "source": [
    "The risk function will return two outputs, the first output is the total Expected Annual Damage, the second output is the damage per return period."
   ]
  },
  {
   "cell_type": "code",
   "execution_count": null,
   "metadata": {},
   "outputs": [],
   "source": [
    "EAD_current,Damages_current = risk(timeframe='current') "
   ]
  },
  {
   "cell_type": "code",
   "execution_count": null,
   "metadata": {},
   "outputs": [],
   "source": [
    "EAD_future,Damages_future = risk(timeframe='2100')"
   ]
  },
  {
   "cell_type": "code",
   "execution_count": null,
   "metadata": {},
   "outputs": [],
   "source": [
    "x = [1/10000,1/4000,1/2000,1/1000,1/100,1/10]\n",
    "\n",
    "# red dashes, blue squares and green triangles\n",
    "plt.plot(x, Damages_current, 'r', x, Damages_future, 'b')\n",
    "plt.xscale('log')\n",
    "plt.show()"
   ]
  },
  {
   "cell_type": "code",
   "execution_count": null,
   "metadata": {},
   "outputs": [],
   "source": []
  },
  {
   "cell_type": "code",
   "execution_count": null,
   "metadata": {},
   "outputs": [],
   "source": []
  }
 ],
 "metadata": {
  "kernelspec": {
   "display_name": "Python 3",
   "language": "python",
   "name": "python3"
  },
  "language_info": {
   "codemirror_mode": {
    "name": "ipython",
    "version": 3
   },
   "file_extension": ".py",
   "mimetype": "text/x-python",
   "name": "python",
   "nbconvert_exporter": "python",
   "pygments_lexer": "ipython3",
   "version": "3.7.1"
  }
 },
 "nbformat": 4,
 "nbformat_minor": 2
}
