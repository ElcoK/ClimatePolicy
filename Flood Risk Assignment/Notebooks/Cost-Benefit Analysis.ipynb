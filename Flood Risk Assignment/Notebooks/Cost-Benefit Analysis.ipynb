{
 "cells": [
  {
   "cell_type": "markdown",
   "metadata": {},
   "source": [
    "### Load packages\n",
    "First we need to load the python packages that are required to perform the analysis"
   ]
  },
  {
   "cell_type": "code",
   "execution_count": 1,
   "metadata": {},
   "outputs": [],
   "source": [
    "%matplotlib inline\n",
    "import os\n",
    "import rasterio\n",
    "import numpy \n",
    "import pandas\n",
    "import scipy.io # to load the matlab files\n",
    "from tqdm import tqdm\n",
    "from DamageScanner import DamageScanner # the tool to estimate the losses\n",
    "\n",
    "data_path = os.path.join('..','Data')"
   ]
  },
  {
   "cell_type": "code",
   "execution_count": 2,
   "metadata": {},
   "outputs": [],
   "source": [
    "# function to load DDM data\n",
    "def read_DDM_input(DDM_data_path):\n",
    "    DDM_data = {}\n",
    "    DDM_data['Curves_structure'] = pandas.read_excel(DDM_data_path,sheet_name='curves_structure').values\n",
    "    DDM_data['Curves_content'] = pandas.read_excel(DDM_data_path,sheet_name='curves_content').values\n",
    "    DDM_data['MaxDam_structure'] = pandas.read_excel(DDM_data_path,sheet_name='maxdam_structure').values\n",
    "    DDM_data['MaxDam_content'] = pandas.read_excel(DDM_data_path,sheet_name='maxdam_content').values  \n",
    "    \n",
    "    return DDM_data"
   ]
  },
  {
   "cell_type": "markdown",
   "metadata": {},
   "source": [
    "### Create a function to calculate the risk"
   ]
  },
  {
   "cell_type": "code",
   "execution_count": 3,
   "metadata": {},
   "outputs": [],
   "source": [
    "def risk(DDM_data_path,timeframe='current'):\n",
    "\n",
    "    # Set paths to data and load initial data\n",
    "    DDM_data = read_DDM_input(DDM_data_path) # the depth-damage curves and maximum damages\n",
    "    landuse_map = os.path.join(data_path,'landuse.asc') # the land-use map\n",
    "    inundation_maps = scipy.io.loadmat(os.path.join(data_path,'Waterdepth_{}.mat'.format(timeframe))) # the inundation files for the current situation\n",
    " \n",
    "    return_periods = [10,100,1000,2000,4000,10000]\n",
    "    \n",
    "    damages = []\n",
    "    for return_period in tqdm(return_periods):\n",
    "        if timeframe == 'current':\n",
    "            inun_map = 'a0_{}'.format(return_period)\n",
    "        elif timeframe == '2100':\n",
    "            inun_map = 'a2_{}'.format(return_period)\n",
    "            \n",
    "        damage_structure,damagebin_structure = DamageScanner(landuse_map,inundation_maps[inun_map],DDM_data['Curves_structure'],\n",
    "                                                         DDM_data['MaxDam_structure'])\n",
    "\n",
    "        # run the DamageScanner for the content\n",
    "        damage_content,damagebin_content = DamageScanner(landuse_map,inundation_maps[inun_map],DDM_data['Curves_content'],\n",
    "                                                             DDM_data['MaxDam_content'])\n",
    "        \n",
    "        damages.append(damage_content+damage_structure)\n",
    "        \n",
    "    return numpy.trapz(damages[::-1],[1/x for x in return_periods][::-1])"
   ]
  },
  {
   "cell_type": "markdown",
   "metadata": {},
   "source": [
    "### Estimate avoided losses"
   ]
  },
  {
   "cell_type": "markdown",
   "metadata": {},
   "source": [
    "Calculate current and future risk using 'normal curves'"
   ]
  },
  {
   "cell_type": "code",
   "execution_count": 4,
   "metadata": {},
   "outputs": [
    {
     "name": "stderr",
     "output_type": "stream",
     "text": [
      "100%|████████████████████████████████████████████████████████████████████████████████████| 6/6 [00:02<00:00,  2.77it/s]\n",
      "100%|████████████████████████████████████████████████████████████████████████████████████| 6/6 [00:02<00:00,  2.43it/s]\n"
     ]
    }
   ],
   "source": [
    "DDM_data_path = os.path.join(data_path,'DDM_data.xlsx')\n",
    "current_risk_no_adapt = risk(DDM_data_path,timeframe='current')\n",
    "future_risk_no_adapt = risk(DDM_data_path,timeframe='2100')"
   ]
  },
  {
   "cell_type": "markdown",
   "metadata": {},
   "source": [
    "Calculate current and future risk using 'changed curves'"
   ]
  },
  {
   "cell_type": "code",
   "execution_count": 5,
   "metadata": {},
   "outputs": [
    {
     "name": "stderr",
     "output_type": "stream",
     "text": [
      "100%|████████████████████████████████████████████████████████████████████████████████████| 6/6 [00:01<00:00,  3.18it/s]\n",
      "100%|████████████████████████████████████████████████████████████████████████████████████| 6/6 [00:02<00:00,  2.62it/s]\n"
     ]
    }
   ],
   "source": [
    "DDM_data_path = os.path.join(data_path,'XXXXX') # add here the name of the new file\n",
    "current_risk_adapt = risk(DDM_data_path,timeframe='current')\n",
    "future_risk_adapt = risk(DDM_data_path,timeframe='2100')"
   ]
  },
  {
   "cell_type": "markdown",
   "metadata": {},
   "source": [
    "Calculate avoided losses for current and future risk"
   ]
  },
  {
   "cell_type": "code",
   "execution_count": 52,
   "metadata": {},
   "outputs": [],
   "source": [
    "current_avoided_losses = current_risk_no_adapt-current_risk_adapt\n",
    "future_avoided_losses = future_risk_no_adapt-future_risk_adapt"
   ]
  },
  {
   "cell_type": "markdown",
   "metadata": {},
   "source": [
    "### Estimate total avoided losses over the next 50 years for the current and future situation"
   ]
  },
  {
   "cell_type": "code",
   "execution_count": 38,
   "metadata": {},
   "outputs": [],
   "source": [
    "time_horizon = XXX # fill in time horizon\n",
    "discountRate = XXX # fill in discountrate. Do not use percentages. \n",
    "\n",
    "# and we use the numpy net present value function:\n",
    "total_avoided_losses_current = numpy.npv(discountRate, [current_avoided_losses]*time_horizon)\n",
    "total_avoided_losses_future = numpy.npv(discountRate, [future_avoided_losses]*time_horizon)"
   ]
  },
  {
   "cell_type": "code",
   "execution_count": null,
   "metadata": {},
   "outputs": [],
   "source": []
  },
  {
   "cell_type": "markdown",
   "metadata": {},
   "source": [
    "### Estimate total houses that need to be adapted"
   ]
  },
  {
   "cell_type": "markdown",
   "metadata": {},
   "source": [
    "Let's load the landuse map first"
   ]
  },
  {
   "cell_type": "code",
   "execution_count": 27,
   "metadata": {},
   "outputs": [],
   "source": [
    "with rasterio.open(os.path.join(data_path,'landuse.asc')) as src:\n",
    "    landuse = src.read()[0,:,:]\n",
    "    cellsize = src.res[0]*src.res[1]"
   ]
  },
  {
   "cell_type": "markdown",
   "metadata": {},
   "source": [
    "And get the total landuse for each landuse class"
   ]
  },
  {
   "cell_type": "code",
   "execution_count": 29,
   "metadata": {},
   "outputs": [],
   "source": [
    "uniques,counts = numpy.unique(landuse,return_counts=True) # first count the cells \n",
    "\n",
    "df_landuse = pandas.DataFrame.from_dict(dict(zip(uniques, counts)),\n",
    "                                        orient='index',columns=['cell_count']) # turn into a dataframe\n",
    "\n",
    "df_landuse['area'] = df_landuse.cell_count*cellsize # and multiply with the cellsize to get the total area"
   ]
  },
  {
   "cell_type": "markdown",
   "metadata": {},
   "source": [
    "Now we know the total area of houses (land-use class 111). Estimate a sensible average area for each house, to estimate the total amount of residential buildings within the Heijplaat "
   ]
  },
  {
   "cell_type": "code",
   "execution_count": 42,
   "metadata": {},
   "outputs": [],
   "source": [
    "total_houses = df_landuse.loc[111,'area']/XXX # fill in average area of each house"
   ]
  },
  {
   "cell_type": "code",
   "execution_count": null,
   "metadata": {},
   "outputs": [],
   "source": []
  },
  {
   "cell_type": "markdown",
   "metadata": {},
   "source": [
    "### Estimate benefit-cost ratio for current and future situation"
   ]
  },
  {
   "cell_type": "code",
   "execution_count": 48,
   "metadata": {},
   "outputs": [],
   "source": [
    "bca_current = total_avoided_losses_current/(total_houses*XXX) # fill in investment value"
   ]
  },
  {
   "cell_type": "code",
   "execution_count": 49,
   "metadata": {},
   "outputs": [],
   "source": [
    "bca_future = total_avoided_losses_future/(total_houses*XXX) # fill in investment value"
   ]
  },
  {
   "cell_type": "code",
   "execution_count": null,
   "metadata": {},
   "outputs": [],
   "source": []
  },
  {
   "cell_type": "markdown",
   "metadata": {},
   "source": [
    "### Estimate optimal investment value for current situation"
   ]
  },
  {
   "cell_type": "code",
   "execution_count": null,
   "metadata": {},
   "outputs": [],
   "source": []
  }
 ],
 "metadata": {
  "kernelspec": {
   "display_name": "Python 3",
   "language": "python",
   "name": "python3"
  },
  "language_info": {
   "codemirror_mode": {
    "name": "ipython",
    "version": 3
   },
   "file_extension": ".py",
   "mimetype": "text/x-python",
   "name": "python",
   "nbconvert_exporter": "python",
   "pygments_lexer": "ipython3",
   "version": "3.7.1"
  }
 },
 "nbformat": 4,
 "nbformat_minor": 2
}
