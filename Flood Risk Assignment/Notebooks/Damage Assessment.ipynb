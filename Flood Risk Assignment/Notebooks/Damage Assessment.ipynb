{
 "cells": [
  {
   "cell_type": "markdown",
   "metadata": {},
   "source": [
    "### Load packages\n",
    "First we need to load the python packages that are required to perform the analysis"
   ]
  },
  {
   "cell_type": "code",
   "execution_count": null,
   "metadata": {},
   "outputs": [],
   "source": [
    "%matplotlib inline\n",
    "\n",
    "import os\n",
    "import rasterio\n",
    "import numpy \n",
    "import pandas\n",
    "import scipy.io # to load the matlab files\n",
    "\n",
    "import matplotlib.pyplot as plt\n",
    "\n",
    "from DamageScanner import DamageScanner # the tool to estimate the losses\n",
    "\n",
    "data_path = os.path.join('..','Data')"
   ]
  },
  {
   "cell_type": "markdown",
   "metadata": {},
   "source": [
    "### Set paths to data and load initial data\n",
    "\n",
    "All the data is stored in the *Data* folder, so we are creating paths to load data from that folder. We will create a dictionary with the depth-damage information required to do the analysis."
   ]
  },
  {
   "cell_type": "code",
   "execution_count": null,
   "metadata": {},
   "outputs": [],
   "source": [
    "# function to load DDM data\n",
    "def read_DDM_input(DDM_data_path):\n",
    "    DDM_data = {}\n",
    "    DDM_data['Curves_structure'] = pandas.read_excel(DDM_data_path,sheet_name='curves_structure').values\n",
    "    DDM_data['Curves_content'] = pandas.read_excel(DDM_data_path,sheet_name='curves_content').values\n",
    "    DDM_data['MaxDam_structure'] = pandas.read_excel(DDM_data_path,sheet_name='maxdam_structure').values\n",
    "    DDM_data['MaxDam_content'] = pandas.read_excel(DDM_data_path,sheet_name='maxdam_content').values  \n",
    "    DDM_data['Landuse_names'] = dict(pandas.read_excel(DDM_data_path,sheet_name='landuse_list').values)  \n",
    "    \n",
    "    return DDM_data"
   ]
  },
  {
   "cell_type": "code",
   "execution_count": null,
   "metadata": {},
   "outputs": [],
   "source": [
    "inundation_maps = scipy.io.loadmat(os.path.join(data_path,'Waterdepth_current.mat')) # the inundation files for the current situation\n",
    "landuse_map = os.path.join(data_path,'landuse.asc') # the land-use map\n",
    "DDM_data = read_DDM_input(os.path.join(data_path,'DDM_data.xlsx'))"
   ]
  },
  {
   "cell_type": "markdown",
   "metadata": {},
   "source": [
    "### Specify for which return period we want to estimate damages\n",
    "\n",
    "The return periods are 1/10,1/100,1/1000,1/2000,1/4000,1/10000"
   ]
  },
  {
   "cell_type": "code",
   "execution_count": null,
   "metadata": {},
   "outputs": [],
   "source": [
    "return_period = 100"
   ]
  },
  {
   "cell_type": "markdown",
   "metadata": {},
   "source": [
    "### Run the DamageScanner. We run it for both the structure and the content"
   ]
  },
  {
   "cell_type": "code",
   "execution_count": null,
   "metadata": {},
   "outputs": [],
   "source": [
    "# run the DamageScanner for the building structures\n",
    "damage_structure,damagebin_structure = DamageScanner(landuse_map,inundation_maps['a0_{}'.format(return_period)],DDM_data['Curves_structure'],\n",
    "                                                     DDM_data['MaxDam_structure'])\n",
    "\n",
    "# run the DamageScanner for the content\n",
    "damage_content,damagebin_content = DamageScanner(landuse_map,inundation_maps['a0_{}'.format(return_period)],DDM_data['Curves_content'],\n",
    "                                                     DDM_data['MaxDam_content'])\n",
    "# summarize both\n",
    "damage_total = damage_content+damage_structure\n",
    "damagebin_total  = pandas.DataFrame(pandas.concat([pandas.DataFrame(damagebin_structure['losses']), pandas.DataFrame(damagebin_content['losses'])], axis=1).fillna(0).sum(axis=1),columns=['losses'])\n",
    "damagebin_total = pandas.concat([damagebin_total,damagebin_structure[['area','avg_depth']]],axis=1)\n",
    "damagebin_total.index = damagebin_total.index.astype(int)\n",
    "damagebin_total.index = damagebin_total.index.map(DDM_data['Landuse_names'])\n",
    "\n",
    "#print output\n",
    "print('{} Euro damage for a 1/{} flood event'.format(damage_total,return_period))"
   ]
  },
  {
   "cell_type": "markdown",
   "metadata": {},
   "source": [
    "### Print the output"
   ]
  },
  {
   "cell_type": "code",
   "execution_count": null,
   "metadata": {},
   "outputs": [],
   "source": [
    "damagebin_total"
   ]
  },
  {
   "cell_type": "markdown",
   "metadata": {},
   "source": [
    "### Create a figure of the total damage per land use"
   ]
  },
  {
   "cell_type": "code",
   "execution_count": null,
   "metadata": {},
   "outputs": [],
   "source": [
    "#you may consider only plotting the land-use classes that have a value greater \n",
    "#than zero. If so, remove the hashtag from the line below.\n",
    "#damagebin_total = damagebin_total[damagebin_total.losses != 0]\n",
    "\n",
    "plt.figure(figsize=(20,10))\n",
    "plt.xticks(rotation=90) # add configurations\n",
    "plt.xlabel('Landuse') # add configurations\n",
    "plt.ylabel('Damage') # add configurations\n",
    "\n",
    "plt.yticks() # add configurations\n",
    "plt.xticks() # add configurations\n",
    "\n",
    "plt.title('a title') # add configurations\n",
    "\n",
    "damagebin_total['losses'].plot(kind='bar') # add configurations such as color or lining\n",
    "\n",
    "plt.tight_layout()\n",
    "output_path = os.path.join(data_path,'..','output')\n",
    "plt.savefig(os.path.join(output_path,'100yeardamage.png'),dpi=300)"
   ]
  },
  {
   "cell_type": "code",
   "execution_count": null,
   "metadata": {},
   "outputs": [],
   "source": []
  }
 ],
 "metadata": {
  "kernelspec": {
   "display_name": "Python 3",
   "language": "python",
   "name": "python3"
  },
  "language_info": {
   "codemirror_mode": {
    "name": "ipython",
    "version": 3
   },
   "file_extension": ".py",
   "mimetype": "text/x-python",
   "name": "python",
   "nbconvert_exporter": "python",
   "pygments_lexer": "ipython3",
   "version": "3.7.1"
  }
 },
 "nbformat": 4,
 "nbformat_minor": 2
}
