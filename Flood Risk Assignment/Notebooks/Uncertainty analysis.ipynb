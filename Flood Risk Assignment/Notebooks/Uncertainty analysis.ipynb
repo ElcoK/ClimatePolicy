{
 "cells": [
  {
   "cell_type": "markdown",
   "metadata": {},
   "source": [
    "### Load packages\n",
    "First we need to load the python packages that are required to perform the analysis"
   ]
  },
  {
   "cell_type": "code",
   "execution_count": null,
   "metadata": {},
   "outputs": [],
   "source": [
    "!pip install salib --upgrade"
   ]
  },
  {
   "cell_type": "code",
   "execution_count": null,
   "metadata": {},
   "outputs": [],
   "source": [
    "import os\n",
    "import rasterio\n",
    "import numpy \n",
    "import pandas\n",
    "import scipy.io # to load the matlab files\n",
    "from SALib.sample import morris\n",
    "import SALib.analyze.morris\n",
    "from tqdm import tqdm\n",
    "import matplotlib.pyplot as plt\n",
    "\n",
    "from DamageScanner import DamageScanner # the tool to estimate the losses\n",
    "\n",
    "data_path = os.path.join('..','Data')\n",
    "\n",
    "numpy.warnings.filterwarnings('ignore')"
   ]
  },
  {
   "cell_type": "markdown",
   "metadata": {},
   "source": [
    "### Set paths to data and load initial data\n",
    "\n",
    "All the data is stored in the *Data* folder, so we are creating paths to load data from that folder. We will create a dictionary with the depth-damage information required to do the analysis."
   ]
  },
  {
   "cell_type": "code",
   "execution_count": null,
   "metadata": {},
   "outputs": [],
   "source": [
    "# function to load DDM data\n",
    "def read_DDM_input(DDM_data_path):\n",
    "    DDM_data = {}\n",
    "    DDM_data['Curves_structure'] = pandas.read_excel(DDM_data_path,sheet_name='curves_structure').values\n",
    "    DDM_data['Curves_content'] = pandas.read_excel(DDM_data_path,sheet_name='curves_content').values\n",
    "    DDM_data['MaxDam_structure'] = pandas.read_excel(DDM_data_path,sheet_name='maxdam_structure').values\n",
    "    DDM_data['MaxDam_content'] = pandas.read_excel(DDM_data_path,sheet_name='maxdam_content').values  \n",
    "    \n",
    "    return DDM_data"
   ]
  },
  {
   "cell_type": "code",
   "execution_count": null,
   "metadata": {},
   "outputs": [],
   "source": [
    "inundation_maps = scipy.io.loadmat(os.path.join(data_path,'Waterdepth_current.mat')) # the inundation files for the current situation\n",
    "landuse_map = os.path.join(data_path,'landuse.asc') # the land-use map\n",
    "DDM_data = read_DDM_input(os.path.join(data_path,'DDM_data.xlsx'))"
   ]
  },
  {
   "cell_type": "markdown",
   "metadata": {},
   "source": [
    "### Run the Uncertainty and sensitivity analysis for the structural damages"
   ]
  },
  {
   "cell_type": "code",
   "execution_count": null,
   "metadata": {
    "scrolled": true
   },
   "outputs": [],
   "source": [
    " # Set up problem for sensitivity analysis\n",
    "problem = {\n",
    "      'num_vars': 3,\n",
    "      'names': ['inundation', 'maxdam','curves'],\n",
    "      'bounds': [[XX,XX],[XX,XX],[XX,XX]]} # give reasonable relative bounds for the different variables that we want to consider\n",
    "\n",
    "# And create parameter values\n",
    "param_values = morris.sample(problem, 10, num_levels=5,local_optimization =True)\n",
    "\n",
    "# Run analysis with the specified parameter values\n",
    "collect_losses = []\n",
    "for param_set in tqdm(param_values,total=len(param_values)):\n",
    "    inundation = inundation_maps['a0_10000'].copy()*param_set[0]\n",
    "    inundation[inundation>10] = 0\n",
    "    inundation[inundation<0] = 0\n",
    "\n",
    "    maxdam = DDM_data['MaxDam_structure'].copy()*param_set[1]\n",
    "\n",
    "    curves = DDM_data['Curves_structure'].copy()\n",
    "    curves[:,1:] = curves[:,1:]/param_set[2]\n",
    "\n",
    "    loss_df = DamageScanner(landuse_map,inundation,curves,maxdam)\n",
    "    \n",
    "    collect_losses.append(loss_df[0])"
   ]
  },
  {
   "cell_type": "markdown",
   "metadata": {},
   "source": [
    "### Obtain results"
   ]
  },
  {
   "cell_type": "code",
   "execution_count": null,
   "metadata": {},
   "outputs": [],
   "source": [
    "Si = SALib.analyze.morris.analyze(problem, numpy.array(param_values), \n",
    "                                      numpy.array(collect_losses),\n",
    "                                 print_to_console=False, num_levels=5)"
   ]
  },
  {
   "cell_type": "markdown",
   "metadata": {},
   "source": [
    "### And plot the results"
   ]
  },
  {
   "cell_type": "code",
   "execution_count": null,
   "metadata": {},
   "outputs": [],
   "source": [
    "fig = plt.figure(figsize=(10, 5))\n",
    "ax1 = plt.subplot(121)\n",
    "ax2 = plt.subplot(122, projection='polar')\n",
    "\n",
    "color_scheme_map = ['#264653','#2A9D8F']\n",
    "\n",
    "# Plot boxplot with spread of total losses\n",
    "ax1.boxplot(numpy.array(collect_losses),showfliers=False, patch_artist=True,\n",
    "            boxprops=dict(facecolor=color_scheme_map[1], edgecolor='black'),\n",
    "            capprops=dict(color='black'),\n",
    "            whiskerprops=dict(color='black'),\n",
    "            flierprops=dict(color=color_scheme_map[1], markeredgecolor='black'),\n",
    "            medianprops=dict(color=color_scheme_map[1]),\n",
    "            )\n",
    "\n",
    "ax1.set_title('Spread of total damage',fontsize=18,fontweight='black', y=1.08)\n",
    "\n",
    "# Plot spyder plot with influence of different variables\n",
    "risk_sens = pandas.DataFrame.from_dict(Si)\n",
    "risk_sens['rel'] = abs(risk_sens['mu'])/abs(risk_sens['mu']).sum()*100\n",
    "risk_sens['mu'] = risk_sens['mu']\n",
    "risk_sens = risk_sens.groupby('names').sum()\n",
    "risk_sens = risk_sens.T\n",
    "risk_sens.columns = ['inundation', 'maxdam', 'curve']      \n",
    "\n",
    "stats=risk_sens.loc['rel',numpy.array(risk_sens.columns)].values\n",
    "\n",
    "angles=numpy.linspace(0, 2*numpy.pi, len(numpy.array(risk_sens.columns)), endpoint=False)\n",
    "\n",
    "# close the plot\n",
    "stats=numpy.concatenate((stats,[stats[0]]))\n",
    "angles=numpy.concatenate((angles,[angles[0]]))\n",
    "\n",
    "ax2.plot(angles, stats, 'o-', linewidth=2,color=color_scheme_map[0])\n",
    "ax2.set_ylim([0, 100])   \n",
    "ax2.fill(angles, stats, alpha=0.25,color=color_scheme_map[0])\n",
    "ax2.set_thetagrids(angles * 180/numpy.pi, numpy.array(risk_sens.columns))\n",
    "ax2.tick_params(axis='x',labelsize=14,labelcolor='black',color='black',) # pad=12\n",
    "\n",
    "ax2.set_title('Influence of variables',fontsize=18,fontweight='black', y=1.08)\n",
    "\n",
    "fig.tight_layout()\n",
    "\n",
    "output_path = os.path.join(data_path,'..','output')\n",
    "fig.savefig(os.path.join(output_path,'sensitivity_analysis.png'),dpi=300)"
   ]
  },
  {
   "cell_type": "code",
   "execution_count": null,
   "metadata": {},
   "outputs": [],
   "source": []
  }
 ],
 "metadata": {
  "kernelspec": {
   "display_name": "Python 3",
   "language": "python",
   "name": "python3"
  },
  "language_info": {
   "codemirror_mode": {
    "name": "ipython",
    "version": 3
   },
   "file_extension": ".py",
   "mimetype": "text/x-python",
   "name": "python",
   "nbconvert_exporter": "python",
   "pygments_lexer": "ipython3",
   "version": "3.7.1"
  }
 },
 "nbformat": 4,
 "nbformat_minor": 2
}
