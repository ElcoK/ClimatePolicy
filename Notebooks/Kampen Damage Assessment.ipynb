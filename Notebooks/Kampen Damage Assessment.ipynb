{
 "cells": [
  {
   "cell_type": "markdown",
   "metadata": {},
   "source": [
    "### Load packages\n",
    "First we need to load the python packages that are required to perform the analysis"
   ]
  },
  {
   "cell_type": "code",
   "execution_count": 2,
   "metadata": {},
   "outputs": [],
   "source": [
    "import os\n",
    "import rasterio\n",
    "import numpy \n",
    "import pandas\n",
    "import scipy.io # to load the matlab files\n",
    "\n",
    "from DamageScanner import DamageScanner # the tool to estimate the losses\n",
    "\n",
    "data_path = os.path.join('..','Data')"
   ]
  },
  {
   "cell_type": "markdown",
   "metadata": {},
   "source": [
    "### Set paths to data and load initial data\n",
    "\n",
    "All the data is stored in the *Data* folder, so we are creating paths to load data from that folder. We will \n",
    "create a dictionary with the depth-damage information required to do the analysis."
   ]
  },
  {
   "cell_type": "code",
   "execution_count": 3,
   "metadata": {},
   "outputs": [],
   "source": [
    "# function to load DDM data\n",
    "def read_DDM_input(DDM_data_path):\n",
    "    DDM_data = {}\n",
    "    DDM_data['Curves_structure'] = pandas.read_excel(DDM_data_path,sheet_name='curves_structure').values\n",
    "    DDM_data['Curves_content'] = pandas.read_excel(DDM_data_path,sheet_name='curves_content').values\n",
    "    DDM_data['MaxDam_structure'] = pandas.read_excel(DDM_data_path,sheet_name='maxdam_structure').values\n",
    "    DDM_data['MaxDam_content'] = pandas.read_excel(DDM_data_path,sheet_name='maxdam_content').values  \n",
    "    \n",
    "    return DDM_data"
   ]
  },
  {
   "cell_type": "code",
   "execution_count": 15,
   "metadata": {},
   "outputs": [],
   "source": [
    "inundation_map = os.path.join(data_path,'unembanked_flood.tif') # the inundation file for your area\n",
    "landuse_map = os.path.join(data_path,'unembanked_landuse.tif') # the land-use map for your area\n",
    "DDM_data = read_DDM_input(os.path.join(data_path,'DDM_data_AUC.xlsx'))"
   ]
  },
  {
   "cell_type": "code",
   "execution_count": 16,
   "metadata": {},
   "outputs": [
    {
     "name": "stdout",
     "output_type": "stream",
     "text": [
      "99893862.97500306 Euro damage for Kampen\n"
     ]
    }
   ],
   "source": [
    "# run the DamageScanner for the building structures\n",
    "damage_structure,damagebin_structure = DamageScanner(landuse_map,inundation_map,DDM_data['Curves_structure'],\n",
    "                                                     DDM_data['MaxDam_structure'])\n",
    "\n",
    "# run the DamageScanner for the content\n",
    "damage_content,damagebin_content = DamageScanner(landuse_map,landuse_map,DDM_data['Curves_content'],\n",
    "                                                     DDM_data['MaxDam_content'])\n",
    "# summarize both\n",
    "damage_total = damage_content+damage_structure\n",
    "damagebin_total  = pandas.DataFrame(pandas.concat([pandas.DataFrame(damagebin_structure['losses']), pandas.DataFrame(damagebin_content['losses'])], axis=1).fillna(0).sum(axis=1),columns=['losses'])\n",
    "damagebin_total = pandas.concat([damagebin_total,damagebin_structure[['area','avg_depth']]],axis=1)\n",
    "\n",
    "#print output\n",
    "print('{} Euro damage'.format(damage_total))"
   ]
  },
  {
   "cell_type": "code",
   "execution_count": null,
   "metadata": {},
   "outputs": [],
   "source": []
  }
 ],
 "metadata": {
  "kernelspec": {
   "display_name": "Python 3",
   "language": "python",
   "name": "python3"
  },
  "language_info": {
   "codemirror_mode": {
    "name": "ipython",
    "version": 3
   },
   "file_extension": ".py",
   "mimetype": "text/x-python",
   "name": "python",
   "nbconvert_exporter": "python",
   "pygments_lexer": "ipython3",
   "version": "3.6.6"
  }
 },
 "nbformat": 4,
 "nbformat_minor": 2
}
