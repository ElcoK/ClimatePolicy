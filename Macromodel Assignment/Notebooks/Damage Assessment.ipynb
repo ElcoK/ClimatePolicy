{
 "cells": [
  {
   "cell_type": "markdown",
   "metadata": {},
   "source": [
    "### Load packages\n",
    "First we need to load the python packages that are required to perform the analysis"
   ]
  },
  {
   "cell_type": "code",
   "execution_count": null,
   "metadata": {},
   "outputs": [],
   "source": [
    "%matplotlib inline\n",
    "\n",
    "import os\n",
    "import rasterio\n",
    "import numpy \n",
    "import pandas\n",
    "import scipy.io # to load the matlab files\n",
    "\n",
    "import matplotlib.pyplot as plt\n",
    "\n",
    "from DamageScanner import DamageScanner # the tool to estimate the losses\n",
    "\n",
    "data_path = os.path.join('..','Data')"
   ]
  },
  {
   "cell_type": "markdown",
   "metadata": {},
   "source": [
    "### Set paths to data and load initial data\n",
    "\n",
    "All the data is stored in the *Data* folder, so we are creating paths to load data from that folder. We will create a dictionary with the depth-damage information required to do the analysis."
   ]
  },
  {
   "cell_type": "code",
   "execution_count": null,
   "metadata": {},
   "outputs": [],
   "source": [
    "# function to load DDM data\n",
    "def read_DDM_input(DDM_data_path):\n",
    "    DDM_data = {}\n",
    "    DDM_data['Curves_structure'] = pandas.read_excel(DDM_data_path,sheet_name='curves_structure').values\n",
    "    DDM_data['Curves_content'] = pandas.read_excel(DDM_data_path,sheet_name='curves_content').values\n",
    "    DDM_data['MaxDam_structure'] = pandas.read_excel(DDM_data_path,sheet_name='maxdam_structure').values\n",
    "    DDM_data['MaxDam_content'] = pandas.read_excel(DDM_data_path,sheet_name='maxdam_content').values  \n",
    "    DDM_data['Landuse_names'] = dict(pandas.read_excel(DDM_data_path,sheet_name='landuse_list').values)  \n",
    "    \n",
    "    return DDM_data"
   ]
  },
  {
   "cell_type": "code",
   "execution_count": null,
   "metadata": {},
   "outputs": [],
   "source": [
    "inundation_map = os.path.join(data_path,'flood_map.tif') # the land-use map\n",
    "landuse_map = os.path.join(data_path,'landuse.tif') # the land-use map\n",
    "DDM_data = read_DDM_input(os.path.join(data_path,'DDM_data.xlsx'))"
   ]
  },
  {
   "cell_type": "markdown",
   "metadata": {},
   "source": [
    "### Run the DamageScanner. We run it for both the structure and the content"
   ]
  },
  {
   "cell_type": "code",
   "execution_count": null,
   "metadata": {},
   "outputs": [],
   "source": [
    "# run the DamageScanner for the building structures\n",
    "damage_structure,damagebin_structure = DamageScanner(landuse_map,inundation_map,DDM_data['Curves_structure'],\n",
    "                                                     DDM_data['MaxDam_structure'])\n",
    "\n",
    "# run the DamageScanner for the content\n",
    "damage_content,damagebin_content = DamageScanner(landuse_map,inundation_map,DDM_data['Curves_content'],\n",
    "                                                     DDM_data['MaxDam_content'])\n",
    "# summarize both\n",
    "damage_total = damage_content+damage_structure\n",
    "damagebin_total  = pandas.DataFrame(pandas.concat([pandas.DataFrame(damagebin_structure['damages']), pandas.DataFrame(damagebin_content['damages'])], axis=1).fillna(0).sum(axis=1),columns=['damages'])\n",
    "damagebin_total = pandas.concat([damagebin_total,damagebin_structure[['area','avg_depth']]],axis=1)\n",
    "damagebin_total.index = damagebin_total.index.astype(int)\n",
    "damagebin_total.index = damagebin_total.index.map(DDM_data['Landuse_names'])\n",
    "\n",
    "#print output\n",
    "print('{} Euro damage for a 1/1000 flood event'.format(damage_total))"
   ]
  },
  {
   "cell_type": "markdown",
   "metadata": {},
   "source": [
    "### Translate land-use classes to economic sectors\n",
    "We will focus in the remainder of the assignment on the impact of \n",
    "the industrial sectors to the economy the Rotterdam area"
   ]
  },
  {
   "cell_type": "code",
   "execution_count": null,
   "metadata": {},
   "outputs": [],
   "source": [
    "# get only the industrial damages\n",
    "industries = damagebin_total.iloc[15:29,:]"
   ]
  },
  {
   "cell_type": "code",
   "execution_count": null,
   "metadata": {},
   "outputs": [],
   "source": [
    "plt.figure(figsize=(20,10))\n",
    "plt.xticks(rotation=90) # add configurations\n",
    "plt.xlabel('Landuse') # add configurations\n",
    "plt.ylabel('Damage') # add configurations\n",
    "\n",
    "plt.yticks() # add configurations\n",
    "plt.xticks() # add configurations\n",
    "\n",
    "plt.title('a title') # add configurations\n",
    "\n",
    "industries['damages'].plot(kind='bar') # add configurations such as color or lining\n",
    "\n",
    "plt.tight_layout()\n",
    "output_path = os.path.join(data_path,'..','output')\n",
    "plt.savefig(os.path.join(output_path,'1000yeardamage.png'),dpi=300)"
   ]
  },
  {
   "cell_type": "markdown",
   "metadata": {},
   "source": [
    "### Create a mapping dictionary, to translate the land use names to sector codes"
   ]
  },
  {
   "cell_type": "code",
   "execution_count": null,
   "metadata": {},
   "outputs": [],
   "source": [
    "mapping_dict = {'Industrial area':'C1','Industrial building':'C1','Warehouses':'H',\n",
    "                'Food industry':'C2','Chemical industry':'C4','Building materials':'F',\n",
    "               'Metal products industry':'C5','Transport industry':'H','Waste industry':'C8','Tank storage':'H',\n",
    "                'Container terminals':'H','Break bulk cargo':'H','Bulk terminals':'H','Other industry':'C8'}"
   ]
  },
  {
   "cell_type": "code",
   "execution_count": null,
   "metadata": {},
   "outputs": [],
   "source": [
    "industries.index = industries.index.map(mapping_dict)"
   ]
  },
  {
   "cell_type": "markdown",
   "metadata": {},
   "source": [
    "### And save the total damages to a csv file, that we can use in the next phase"
   ]
  },
  {
   "cell_type": "code",
   "execution_count": null,
   "metadata": {},
   "outputs": [],
   "source": [
    "output_path = os.path.join(data_path,'..','output')\n",
    "pandas.DataFrame(industries.groupby(level=0).sum()['damages']).to_csv(os.path.join(output_path,'damages_sector.csv'))"
   ]
  },
  {
   "cell_type": "code",
   "execution_count": null,
   "metadata": {},
   "outputs": [],
   "source": []
  },
  {
   "cell_type": "code",
   "execution_count": null,
   "metadata": {},
   "outputs": [],
   "source": []
  }
 ],
 "metadata": {
  "kernelspec": {
   "display_name": "Python 3",
   "language": "python",
   "name": "python3"
  },
  "language_info": {
   "codemirror_mode": {
    "name": "ipython",
    "version": 3
   },
   "file_extension": ".py",
   "mimetype": "text/x-python",
   "name": "python",
   "nbconvert_exporter": "python",
   "pygments_lexer": "ipython3",
   "version": "3.7.1"
  }
 },
 "nbformat": 4,
 "nbformat_minor": 2
}
