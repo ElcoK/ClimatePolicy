{
 "cells": [
  {
   "cell_type": "code",
   "execution_count": null,
   "metadata": {},
   "outputs": [],
   "source": [
    "%matplotlib inline\n",
    "\n",
    "import os\n",
    "import pandas as pd\n",
    "import numpy as np\n",
    "from tqdm import tqdm\n",
    "import matplotlib.pyplot as plt\n",
    "\n",
    "data_path = os.path.join('..','Data')\n",
    "\n",
    "pd.options.display.float_format = '{:.3f}'.format"
   ]
  },
  {
   "cell_type": "markdown",
   "metadata": {},
   "source": [
    "### Load Input-Output data"
   ]
  },
  {
   "cell_type": "code",
   "execution_count": null,
   "metadata": {},
   "outputs": [],
   "source": [
    "Rijnmond_IO = pd.read_csv(os.path.join(data_path,'Rijnmond_IO.csv'),header=[0],index_col=[0])"
   ]
  },
  {
   "cell_type": "markdown",
   "metadata": {},
   "source": [
    "### Create mapping dictionary so we have names instead of codes"
   ]
  },
  {
   "cell_type": "code",
   "execution_count": null,
   "metadata": {},
   "outputs": [],
   "source": [
    "sector_codes = ['A','B','C1','C2','C3','C4','C5','C6','C7','C8','F','G','H','I','J','K','L','M','N','O','P','Q','R','S','T']\n",
    "full_sector_names = ['Agriculture, forestry and fishing','Quarrying',\n",
    "'General Industry','Food industry','Oil refinery','Chemical & biobased industry','Basic metal-metal products industry',\n",
    "'Means of transport ind. and maritime service','Electricity generation','Other Industry',\n",
    "'Construction industry','Trade','Transport and storage','Catering industry',\n",
    "'Information and communication','Financial services','Rental and trading of real estate',\n",
    "'Specialist Business Services','Rental and other business services','Public administration and government services',\n",
    "'Education','Health and welfare care','Culture, sport and recreation','Other services','Household services']\n",
    "\n",
    "sector_dict = dict(zip(sector_codes,full_sector_names))"
   ]
  },
  {
   "cell_type": "markdown",
   "metadata": {},
   "source": [
    "### And change the index and column names "
   ]
  },
  {
   "cell_type": "code",
   "execution_count": null,
   "metadata": {},
   "outputs": [],
   "source": [
    "Rijnmond_IO = Rijnmond_IO.rename(columns=sector_dict,index=sector_dict)"
   ]
  },
  {
   "cell_type": "markdown",
   "metadata": {},
   "source": [
    "### Create A matrix"
   ]
  },
  {
   "cell_type": "code",
   "execution_count": null,
   "metadata": {},
   "outputs": [],
   "source": [
    "A = np.array(Rijnmond_IO.iloc[:25,:25])/np.array(Rijnmond_IO.iloc[:,:25].sum(axis=0))\n",
    "A = np.nan_to_num(A)"
   ]
  },
  {
   "cell_type": "markdown",
   "metadata": {},
   "source": [
    "### Create I Matrix"
   ]
  },
  {
   "cell_type": "code",
   "execution_count": null,
   "metadata": {},
   "outputs": [],
   "source": [
    "I = np.diag((np.ones(25)))"
   ]
  },
  {
   "cell_type": "markdown",
   "metadata": {},
   "source": [
    "### Create Leontief Inverse\n",
    "To create the inverse of a matrix, we can use the function np.linalg.inv(x)"
   ]
  },
  {
   "cell_type": "code",
   "execution_count": null,
   "metadata": {},
   "outputs": [],
   "source": [
    "LI = np.linalg.inv((I-A))"
   ]
  },
  {
   "cell_type": "markdown",
   "metadata": {},
   "source": [
    "### Test the Leontief Inverse"
   ]
  },
  {
   "cell_type": "code",
   "execution_count": null,
   "metadata": {},
   "outputs": [],
   "source": [
    "TFD = Rijnmond_IO.iloc[:25,25:].sum(axis=1) # total final demand (household demand and exports)"
   ]
  },
  {
   "cell_type": "code",
   "execution_count": null,
   "metadata": {},
   "outputs": [],
   "source": [
    "X = np.dot(LI,TFD) # multiply the leontief inverse with the total final demand"
   ]
  },
  {
   "cell_type": "code",
   "execution_count": null,
   "metadata": {},
   "outputs": [],
   "source": [
    "# compare X with the sector totals, check if it is correct\n",
    "\n"
   ]
  },
  {
   "cell_type": "markdown",
   "metadata": {},
   "source": [
    "### Estimate impacts of a reduction of 50% in demand for food products\n",
    "We first need to get the Total Final Demand as pandas Series, so we know which value belongs to which sector."
   ]
  },
  {
   "cell_type": "code",
   "execution_count": null,
   "metadata": {},
   "outputs": [],
   "source": [
    "NEW_TFD_FOOD = TFD.copy() # Create a copy of the total final demand, where we can change the value\n",
    "NEW_TFD_FOOD['Food industry'] = NEW_TFD_FOOD['Food industry']*0.5 # and reduce the food industry by 50% "
   ]
  },
  {
   "cell_type": "markdown",
   "metadata": {},
   "source": [
    "Use the function np.dot() and have a look at the slides on how to perform this"
   ]
  },
  {
   "cell_type": "code",
   "execution_count": null,
   "metadata": {},
   "outputs": [],
   "source": [
    "X_new_food = np.dot(LI,NEW_TFD_FOOD)"
   ]
  },
  {
   "cell_type": "markdown",
   "metadata": {},
   "source": [
    "And calculate the difference per sector:"
   ]
  },
  {
   "cell_type": "code",
   "execution_count": null,
   "metadata": {},
   "outputs": [],
   "source": [
    "loss_per_sector_food = pd.DataFrame(X_new_food-X,index=TFD.index,columns=['losses'])"
   ]
  },
  {
   "cell_type": "markdown",
   "metadata": {},
   "source": [
    "And the total losses:"
   ]
  },
  {
   "cell_type": "code",
   "execution_count": null,
   "metadata": {},
   "outputs": [],
   "source": []
  },
  {
   "cell_type": "markdown",
   "metadata": {},
   "source": [
    "### And do the same for financial services"
   ]
  },
  {
   "cell_type": "code",
   "execution_count": null,
   "metadata": {},
   "outputs": [],
   "source": [
    "NEW_TFD_FIN = TFD.copy() # Create a copy of the total final demand, where we can change the value\n",
    "NEW_TFD_FIN['Financial services'] = TFD['Financial services']*0.5 # and reduce the food industry by 50% "
   ]
  },
  {
   "cell_type": "markdown",
   "metadata": {},
   "source": [
    "Use the function np.dot() and have a look at the slides on how to perform this"
   ]
  },
  {
   "cell_type": "code",
   "execution_count": null,
   "metadata": {},
   "outputs": [],
   "source": [
    "X_new_fin = np.dot(LI,NEW_TFD_FIN)"
   ]
  },
  {
   "cell_type": "markdown",
   "metadata": {},
   "source": [
    "And calculate the difference per sector:"
   ]
  },
  {
   "cell_type": "code",
   "execution_count": null,
   "metadata": {},
   "outputs": [],
   "source": [
    "loss_per_sector_fin = pd.DataFrame(X_new_fin-X,index=TFD.index,columns=['losses'])"
   ]
  },
  {
   "cell_type": "code",
   "execution_count": null,
   "metadata": {},
   "outputs": [],
   "source": []
  },
  {
   "cell_type": "markdown",
   "metadata": {},
   "source": [
    "And the total losses:"
   ]
  },
  {
   "cell_type": "code",
   "execution_count": null,
   "metadata": {},
   "outputs": [],
   "source": []
  },
  {
   "cell_type": "markdown",
   "metadata": {},
   "source": [
    "### Finally, let's use the Leontief Inverse to calculate the losses due to the flood"
   ]
  },
  {
   "cell_type": "markdown",
   "metadata": {},
   "source": [
    "We need to first load the direct damage"
   ]
  },
  {
   "cell_type": "code",
   "execution_count": null,
   "metadata": {},
   "outputs": [],
   "source": [
    "output_path = os.path.join(data_path,'..','output')\n",
    "damages_sector = pd.read_csv(os.path.join(output_path,'damages_sector.csv'),header=[0],index_col=[0])\n",
    "damages_sector = damages_sector.rename(index=sector_dict)"
   ]
  },
  {
   "cell_type": "markdown",
   "metadata": {},
   "source": [
    "And translate direct impacts to relative impacts"
   ]
  },
  {
   "cell_type": "code",
   "execution_count": null,
   "metadata": {},
   "outputs": [],
   "source": [
    "ValueA = Rijnmond_IO.iloc[25,:25]*1e6"
   ]
  },
  {
   "cell_type": "code",
   "execution_count": null,
   "metadata": {},
   "outputs": [],
   "source": [
    "damages_sector = damages_sector.merge(ValueA,left_index=True,right_index=True)\n",
    "damages_sector['disruption'] = damages_sector['damages'].div(damages_sector.Z_BrTW)\n",
    "damages_sector['disruption'] = 1-damages_sector['disruption']\n",
    "damages_sector = damages_sector.drop('Z_BrTW',axis=1)\n",
    "\n",
    "# And now merge the two Series so we have a full list of industries and their relative reduction\n",
    "disr_per_sector = pd.merge(pd.DataFrame(damages_sector['disruption']), pd.DataFrame(TFD,columns=['TFD']), \n",
    "                            left_index=True,right_index=True, how='right').fillna(1)"
   ]
  },
  {
   "cell_type": "markdown",
   "metadata": {},
   "source": [
    "Now we can get the new total final demand, based on the disruption as a result of the flood"
   ]
  },
  {
   "cell_type": "code",
   "execution_count": null,
   "metadata": {},
   "outputs": [],
   "source": [
    "NEW_TFD_FLOOD = disr_per_sector['disruption']*disr_per_sector['TFD']"
   ]
  },
  {
   "cell_type": "markdown",
   "metadata": {},
   "source": [
    "Use the function np.dot() again"
   ]
  },
  {
   "cell_type": "code",
   "execution_count": null,
   "metadata": {},
   "outputs": [],
   "source": [
    "X_new_flood  = np.dot(LI,NEW_TFD_FLOOD)"
   ]
  },
  {
   "cell_type": "markdown",
   "metadata": {},
   "source": [
    "And calculate the difference per sector:"
   ]
  },
  {
   "cell_type": "code",
   "execution_count": null,
   "metadata": {},
   "outputs": [],
   "source": [
    "loss_per_sector_flood = pd.DataFrame(X_new_flood-X,index=TFD.index,columns=['losses'])"
   ]
  },
  {
   "cell_type": "code",
   "execution_count": null,
   "metadata": {},
   "outputs": [],
   "source": []
  },
  {
   "cell_type": "markdown",
   "metadata": {},
   "source": [
    "And the total losses:"
   ]
  },
  {
   "cell_type": "code",
   "execution_count": null,
   "metadata": {},
   "outputs": [],
   "source": []
  },
  {
   "cell_type": "markdown",
   "metadata": {},
   "source": [
    "To be able to compare the losses with the output from the ARIO model, we need to translate these total production losses to losses in terms of Value Added:"
   ]
  },
  {
   "cell_type": "code",
   "execution_count": null,
   "metadata": {},
   "outputs": [],
   "source": [
    "loss_value_added = loss_per_sector_flood.multiply((Rijnmond_IO.iloc[25,:25]/X),axis=0)"
   ]
  },
  {
   "cell_type": "code",
   "execution_count": null,
   "metadata": {},
   "outputs": [],
   "source": [
    "loss_value_added"
   ]
  },
  {
   "cell_type": "code",
   "execution_count": null,
   "metadata": {},
   "outputs": [],
   "source": []
  }
 ],
 "metadata": {
  "kernelspec": {
   "display_name": "Python 3",
   "language": "python",
   "name": "python3"
  },
  "language_info": {
   "codemirror_mode": {
    "name": "ipython",
    "version": 3
   },
   "file_extension": ".py",
   "mimetype": "text/x-python",
   "name": "python",
   "nbconvert_exporter": "python",
   "pygments_lexer": "ipython3",
   "version": "3.7.1"
  }
 },
 "nbformat": 4,
 "nbformat_minor": 2
}
