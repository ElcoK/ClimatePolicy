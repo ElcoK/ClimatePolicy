{
 "cells": [
  {
   "cell_type": "code",
   "execution_count": 108,
   "metadata": {},
   "outputs": [],
   "source": [
    "%matplotlib inline\n",
    "\n",
    "import os\n",
    "import pandas as pd\n",
    "import numpy as np\n",
    "from tqdm import tqdm\n",
    "import matplotlib.pyplot as plt\n",
    "\n",
    "data_path = os.path.join('..','Data')"
   ]
  },
  {
   "cell_type": "markdown",
   "metadata": {},
   "source": [
    "### Load Input-Output data"
   ]
  },
  {
   "cell_type": "code",
   "execution_count": 109,
   "metadata": {},
   "outputs": [],
   "source": [
    "Rijnmond_IO = pd.read_csv(os.path.join(data_path,'Rijnmond_IO.csv'),header=[0],index_col=[0])"
   ]
  },
  {
   "cell_type": "markdown",
   "metadata": {},
   "source": [
    "### Create mapping dictionary so we have names instead of codes"
   ]
  },
  {
   "cell_type": "code",
   "execution_count": 110,
   "metadata": {},
   "outputs": [],
   "source": [
    "sector_codes = ['A','B','C1','C2','C3','C4','C5','C6','C7','C8','F','G','H','I','J','K','L','M','N','O','P','Q','R','S','T']\n",
    "full_sector_names = ['Agriculture, forestry and fishing','Quarrying',\n",
    "'General Industry','Food industry','Oil refinery','Chemical & biobased industry','Basic metal-metal products industry',\n",
    "'Means of transport ind. and maritime service','Electricity generation','Other Industry',\n",
    "'Construction industry','Trade','Transport and storage','Catering industry',\n",
    "'Information and communication','Financial services','Rental and trading of real estate',\n",
    "'Specialist Business Services','Rental and other business services','Public administration and government services',\n",
    "'Education','Health and welfare care','Culture, sport and recreation','Other services','Household services']\n",
    "\n",
    "sector_dict = dict(zip(sector_codes,full_sector_names))"
   ]
  },
  {
   "cell_type": "markdown",
   "metadata": {},
   "source": [
    "### And change the index and column names "
   ]
  },
  {
   "cell_type": "code",
   "execution_count": 111,
   "metadata": {},
   "outputs": [],
   "source": [
    "Rijnmond_IO = Rijnmond_IO.rename(columns=sector_dict,index=sector_dict)"
   ]
  },
  {
   "cell_type": "markdown",
   "metadata": {},
   "source": [
    "### Create A matrix"
   ]
  },
  {
   "cell_type": "code",
   "execution_count": 102,
   "metadata": {},
   "outputs": [],
   "source": [
    "A = np.array(Rijnmond_IO.iloc[:25,:25])/np.array(Rijnmond_IO.iloc[:,:25].sum(axis=0))\n",
    "A = np.nan_to_num(A)"
   ]
  },
  {
   "cell_type": "markdown",
   "metadata": {},
   "source": [
    "### Create I Matrix"
   ]
  },
  {
   "cell_type": "code",
   "execution_count": 103,
   "metadata": {},
   "outputs": [],
   "source": [
    "I = np.diag((np.ones(25)))"
   ]
  },
  {
   "cell_type": "markdown",
   "metadata": {},
   "source": [
    "### Create Leontief Inverse\n",
    "To create the inverse of a matrix, we can use the function np.linalg.inv(x)"
   ]
  },
  {
   "cell_type": "code",
   "execution_count": 104,
   "metadata": {},
   "outputs": [],
   "source": [
    "LI = np.linalg.inv((I-A))"
   ]
  },
  {
   "cell_type": "markdown",
   "metadata": {},
   "source": [
    "### Test the Leontief Inverse"
   ]
  },
  {
   "cell_type": "code",
   "execution_count": 105,
   "metadata": {},
   "outputs": [],
   "source": [
    "TFD = list(Rijnmond_IO.iloc[:25,25:].sum(axis=1)) # total final demand (household demand and exports)"
   ]
  },
  {
   "cell_type": "code",
   "execution_count": 107,
   "metadata": {},
   "outputs": [],
   "source": [
    "X = np.dot(LI,TFD) # multiply the leontief inverse with the total final demand"
   ]
  },
  {
   "cell_type": "code",
   "execution_count": null,
   "metadata": {},
   "outputs": [],
   "source": [
    "# compare X with the sector totals, check if it is correct\n",
    "\n"
   ]
  },
  {
   "cell_type": "markdown",
   "metadata": {},
   "source": [
    "### Estimate impacts of a reduction of 50% in demand for food products\n",
    "Use the function np.dot() and have a look at the slides on how to perform this"
   ]
  },
  {
   "cell_type": "code",
   "execution_count": null,
   "metadata": {},
   "outputs": [],
   "source": []
  },
  {
   "cell_type": "markdown",
   "metadata": {},
   "source": [
    "### And do the same for financial services"
   ]
  },
  {
   "cell_type": "code",
   "execution_count": null,
   "metadata": {},
   "outputs": [],
   "source": []
  }
 ],
 "metadata": {
  "kernelspec": {
   "display_name": "Python 3",
   "language": "python",
   "name": "python3"
  },
  "language_info": {
   "codemirror_mode": {
    "name": "ipython",
    "version": 3
   },
   "file_extension": ".py",
   "mimetype": "text/x-python",
   "name": "python",
   "nbconvert_exporter": "python",
   "pygments_lexer": "ipython3",
   "version": "3.7.1"
  }
 },
 "nbformat": 4,
 "nbformat_minor": 2
}
