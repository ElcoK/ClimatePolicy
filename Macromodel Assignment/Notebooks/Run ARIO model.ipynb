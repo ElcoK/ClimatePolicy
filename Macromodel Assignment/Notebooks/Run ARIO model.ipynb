{
 "cells": [
  {
   "cell_type": "markdown",
   "metadata": {},
   "source": [
    "### Load Packages"
   ]
  },
  {
   "cell_type": "code",
   "execution_count": null,
   "metadata": {},
   "outputs": [],
   "source": [
    "%matplotlib inline\n",
    "\n",
    "import os\n",
    "import sys\n",
    "import numpy as np\n",
    "import pandas as pd\n",
    "import geopandas as gpd\n",
    "import numpy as np\n",
    "from tqdm import tqdm\n",
    "import matplotlib.pyplot as plt\n",
    "\n",
    "data_path = os.path.join('..','Data')\n",
    "\n",
    "from indirect import run_model\n",
    "\n",
    "pd.options.display.float_format = '{:.3f}'.format"
   ]
  },
  {
   "cell_type": "markdown",
   "metadata": {},
   "source": [
    "### Create mapping dictionary so we have names instead of codes"
   ]
  },
  {
   "cell_type": "code",
   "execution_count": null,
   "metadata": {},
   "outputs": [],
   "source": [
    "sector_codes = ['A','B','C1','C2','C3','C4','C5','C6','C7','C8','F','G','H','I','J','K','L','M','N','O','P','Q','R','S','T']\n",
    "full_sector_names = ['Agriculture, forestry and fishing','Quarrying',\n",
    "'General Industry','Food industry','Oil refinery','Chemical & biobased industry','Basic metal-metal products industry',\n",
    "'Means of transport ind. and maritime service','Electricity generation','Other Industry',\n",
    "'Construction industry','Trade','Transport and storage','Catering industry',\n",
    "'Information and communication','Financial services','Rental and trading of real estate',\n",
    "'Specialist Business Services','Rental and other business services','Public administration and government services',\n",
    "'Education','Health and welfare care','Culture, sport and recreation','Other services','Household services']\n",
    "\n",
    "sector_dict = dict(zip(sector_codes,full_sector_names))"
   ]
  },
  {
   "cell_type": "markdown",
   "metadata": {},
   "source": [
    "### Prepare reconstruction curves"
   ]
  },
  {
   "cell_type": "code",
   "execution_count": null,
   "metadata": {},
   "outputs": [],
   "source": [
    "EPSILON = sys.float_info.epsilon  # smallest possible difference\n",
    "\n",
    "def get_recon_curve(ini_curve,timesteps):\n",
    "    if timesteps == 0:\n",
    "        return [0,0]\n",
    "\n",
    "    def interpolate(inp, fi):\n",
    "        i = int(fi)\n",
    "        f = fi - i\n",
    "        return (inp[i] if f < EPSILON else\n",
    "                inp[i] + f*(inp[i+1]-inp[i]))\n",
    "\n",
    "    inp = ini_curve\n",
    "    new_len = timesteps\n",
    "\n",
    "    delta = (len(inp)-1) / float(new_len-1)\n",
    "    outp = np.diff([1-int(interpolate(inp, i*delta))/100 for i in range(new_len)])\n",
    "    #outp = [1-int(interpolate(inp, i*delta))/100 for i in range(new_len)]\n",
    "    return list(outp)"
   ]
  },
  {
   "cell_type": "markdown",
   "metadata": {},
   "source": [
    "### Load IO Data"
   ]
  },
  {
   "cell_type": "code",
   "execution_count": null,
   "metadata": {},
   "outputs": [],
   "source": [
    "IO_TABLE = pd.read_csv(os.path.join(data_path,'Rijnmond_IO.csv'),index_col=[0],header=[0])\n",
    "SECTORS = list(IO_TABLE[:25].index.get_level_values(0).unique())"
   ]
  },
  {
   "cell_type": "markdown",
   "metadata": {},
   "source": [
    "### Load direct impacts"
   ]
  },
  {
   "cell_type": "code",
   "execution_count": null,
   "metadata": {},
   "outputs": [],
   "source": [
    "output_path = os.path.join(data_path,'..','output')\n",
    "damages_sector = pd.read_csv(os.path.join(output_path,'damages_sector.csv'),header=[0],index_col=[0])"
   ]
  },
  {
   "cell_type": "markdown",
   "metadata": {},
   "source": [
    "### Translate direct impacts to relative impacts"
   ]
  },
  {
   "cell_type": "code",
   "execution_count": null,
   "metadata": {},
   "outputs": [],
   "source": [
    "ValueA = IO_TABLE.iloc[25,:25]*1e6"
   ]
  },
  {
   "cell_type": "code",
   "execution_count": null,
   "metadata": {},
   "outputs": [],
   "source": [
    "damages_sector = damages_sector.merge(ValueA,left_index=True,right_index=True)\n",
    "damages_sector['disruption'] = damages_sector['damages'].div(damages_sector.Z_BrTW)\n",
    "damages_sector = damages_sector.drop('Z_BrTW',axis=1)"
   ]
  },
  {
   "cell_type": "markdown",
   "metadata": {},
   "source": [
    "### Set maximum recovery duration"
   ]
  },
  {
   "cell_type": "code",
   "execution_count": null,
   "metadata": {},
   "outputs": [],
   "source": [
    "recon_time = 360\n",
    "inventory = 3"
   ]
  },
  {
   "cell_type": "markdown",
   "metadata": {},
   "source": [
    "### Run ARIO Model for different recovery paths"
   ]
  },
  {
   "cell_type": "code",
   "execution_count": null,
   "metadata": {},
   "outputs": [],
   "source": [
    "%%time\n",
    "diff_recons_tot = {}\n",
    "diff_recons_ind = {}\n",
    "diff_recons_path = {}\n",
    "curve_types = ['linear','convex','concave']\n",
    "concave = np.array([100,98,93,88,83,75,64,53,38,20,0])\n",
    "linear = np.array([100,90,80,70,60,50,40,30,20,10,0])\n",
    "convex = np.array([100,70,55,40,30,20,15,10,5,0,0])\n",
    "\n",
    "for recon_type,curve_type in tqdm(zip([linear,convex,concave],curve_types),total=len(curve_types)): #\n",
    "       \n",
    "    # create reconstruction matrix\n",
    "    all_sectors = [get_recon_curve(recon_type,int(x)) for x in list([recon_time]*25)]\n",
    "    pad = max(len(max(all_sectors, key=len))+1,recon_time)\n",
    "    recon_matrix = np.array([i + [0]*(pad-len(i)) for i in all_sectors])\n",
    "\n",
    "\n",
    "    # perform calculations\n",
    "    new_df = damages_sector.copy()\n",
    "    new_df.loc[new_df.disruption > 1] = 0.99\n",
    "    rel_impact = dict(zip(new_df.index,new_df.disruption))\n",
    "\n",
    "    # total losses\n",
    "    get_losses_tot = (run_model([rel_impact[x] if x in rel_impact.keys() else 0 for x in SECTORS],recon_matrix,inventory,pad))[0]\n",
    "    diff_recons_tot[curve_type] = get_losses_tot\n",
    "    \n",
    "    # loss per industry\n",
    "    get_losses_ind = (run_model([rel_impact[x] if x in rel_impact.keys() else 0 for x in SECTORS],recon_matrix,inventory,pad))[1]\n",
    "    diff_recons_ind[curve_type] = get_losses_ind\n",
    "    \n",
    "    # total losses over time\n",
    "    get_losses_path = (run_model([rel_impact[x] if x in rel_impact.keys() else 0 for x in SECTORS],recon_matrix,inventory,pad))[2]\n",
    "    diff_recons_path[curve_type] = get_losses_path\n"
   ]
  },
  {
   "cell_type": "markdown",
   "metadata": {},
   "source": [
    "### Print the total damage for each recovery path\n",
    "Print the *diff_recons_tot* variable below to view the total losses per recovery curve"
   ]
  },
  {
   "cell_type": "markdown",
   "metadata": {},
   "source": [
    "And you can do the same with the *diff_recons_ind* variable to view the losses per curve, per sector. In the example below we plot the linear curve, but you can change this to the convex or concave curve."
   ]
  },
  {
   "cell_type": "code",
   "execution_count": null,
   "metadata": {},
   "outputs": [],
   "source": [
    "loss_per_sector = pd.DataFrame.from_dict(dict(zip(SECTORS,diff_recons_ind['linear'])),\n",
    "                                         orient='index',columns=['losses'])\n",
    "loss_per_sector.index = loss_per_sector.index.map(sector_dict)"
   ]
  },
  {
   "cell_type": "markdown",
   "metadata": {},
   "source": [
    "### And plot a figure with the recovery paths back to the pre-disaster situation"
   ]
  },
  {
   "cell_type": "code",
   "execution_count": null,
   "metadata": {},
   "outputs": [],
   "source": [
    "plt.figure()\n",
    "\n",
    "plt.plot(diff_recons_path['linear'])\n",
    "plt.plot(diff_recons_path['convex'])\n",
    "plt.plot(diff_recons_path['concave'])"
   ]
  },
  {
   "cell_type": "code",
   "execution_count": null,
   "metadata": {},
   "outputs": [],
   "source": []
  }
 ],
 "metadata": {
  "kernelspec": {
   "display_name": "Python 3",
   "language": "python",
   "name": "python3"
  },
  "language_info": {
   "codemirror_mode": {
    "name": "ipython",
    "version": 3
   },
   "file_extension": ".py",
   "mimetype": "text/x-python",
   "name": "python",
   "nbconvert_exporter": "python",
   "pygments_lexer": "ipython3",
   "version": "3.7.1"
  }
 },
 "nbformat": 4,
 "nbformat_minor": 2
}
