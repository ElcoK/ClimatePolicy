{
 "cells": [
  {
   "cell_type": "code",
   "execution_count": null,
   "metadata": {},
   "outputs": [],
   "source": [
    "%matplotlib inline\n",
    "\n",
    "import os\n",
    "import pandas as pd\n",
    "import numpy as np\n",
    "from tqdm import tqdm\n",
    "import matplotlib.pyplot as plt\n",
    "import seaborn as sns\n",
    "\n",
    "data_path = os.path.join('..','Data')"
   ]
  },
  {
   "cell_type": "markdown",
   "metadata": {},
   "source": [
    "### Load Input-Output data"
   ]
  },
  {
   "cell_type": "code",
   "execution_count": null,
   "metadata": {},
   "outputs": [],
   "source": [
    "Rijnmond_IO = pd.read_csv(os.path.join(data_path,'Rijnmond_IO.csv'),header=[0],index_col=[0])"
   ]
  },
  {
   "cell_type": "markdown",
   "metadata": {},
   "source": [
    "### Create mapping dictionary so we have names instead of codes"
   ]
  },
  {
   "cell_type": "code",
   "execution_count": null,
   "metadata": {},
   "outputs": [],
   "source": [
    "sector_codes = ['A','B','C1','C2','C3','C4','C5','C6','C7','C8','F','G','H','I','J','K','L','M','N','O','P','Q','R','S','T']\n",
    "full_sector_names = ['Agriculture, forestry and fishing','Quarrying',\n",
    "'General Industry','Food industry','Oil refinery','Chemical & biobased industry','Basic metal-metal products industry',\n",
    "'Means of transport ind. and maritime service','Electricity generation','Other Industry',\n",
    "'Construction industry','Trade','Transport and storage','Catering industry',\n",
    "'Information and communication','Financial services','Rental and trading of real estate',\n",
    "'Specialist Business Services','Rental and other business services','Public administration and government services',\n",
    "'Education','Health and welfare care','Culture, sport and recreation','Other services']\n",
    "\n",
    "sector_dict = dict(zip(sector_codes,full_sector_names))"
   ]
  },
  {
   "cell_type": "markdown",
   "metadata": {},
   "source": [
    "### And change the index and column names "
   ]
  },
  {
   "cell_type": "code",
   "execution_count": null,
   "metadata": {},
   "outputs": [],
   "source": [
    "Rijnmond_IO = Rijnmond_IO.rename(columns=sector_dict)\n",
    "Rijnmond_IO = Rijnmond_IO.rename(index=sector_dict)"
   ]
  },
  {
   "cell_type": "markdown",
   "metadata": {},
   "source": [
    "### Plot as a heatmap to understand the relation between the sectors"
   ]
  },
  {
   "cell_type": "code",
   "execution_count": null,
   "metadata": {},
   "outputs": [],
   "source": [
    "plt.figure(figsize=(15,10))\n",
    "sns.heatmap(Rijnmond_IO.iloc[:25,:25]) \n",
    "\n",
    "plt.tight_layout()\n",
    "output_path = os.path.join(data_path,'..','output')\n",
    "plt.savefig(os.path.join(output_path,'input_output_heatmap.png'),dpi=300)"
   ]
  },
  {
   "cell_type": "code",
   "execution_count": null,
   "metadata": {},
   "outputs": [],
   "source": []
  }
 ],
 "metadata": {
  "kernelspec": {
   "display_name": "Python 3",
   "language": "python",
   "name": "python3"
  },
  "language_info": {
   "codemirror_mode": {
    "name": "ipython",
    "version": 3
   },
   "file_extension": ".py",
   "mimetype": "text/x-python",
   "name": "python",
   "nbconvert_exporter": "python",
   "pygments_lexer": "ipython3",
   "version": "3.6.6"
  }
 },
 "nbformat": 4,
 "nbformat_minor": 2
}
